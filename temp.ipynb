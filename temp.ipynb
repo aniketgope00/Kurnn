{
 "cells": [
  {
   "cell_type": "code",
   "execution_count": 1,
   "metadata": {},
   "outputs": [],
   "source": [
    "from recommendation_module import feature_extractor_module"
   ]
  },
  {
   "cell_type": "code",
   "execution_count": 2,
   "metadata": {},
   "outputs": [],
   "source": [
    "from recommendation_module import preprocessing_df"
   ]
  },
  {
   "cell_type": "code",
   "execution_count": 17,
   "metadata": {},
   "outputs": [
    {
     "name": "stderr",
     "output_type": "stream",
     "text": [
      "<>:1: SyntaxWarning: invalid escape sequence '\\J'\n",
      "<>:1: SyntaxWarning: invalid escape sequence '\\J'\n",
      "C:\\Users\\anike\\AppData\\Local\\Temp\\ipykernel_16300\\3163727555.py:1: SyntaxWarning: invalid escape sequence '\\J'\n",
      "  get_features = feature_extractor_module.extract_audio_features(\"test_audio\\Jason Mraz - I Won't Give Up.wav\")\n",
      "c:\\Users\\anike\\OneDrive\\Desktop\\website\\Kurnn\\Kurnn\\recommendation_module\\feature_extractor_module.py:76: UserWarning: Empty filters detected in mel frequency basis. Some channels will produce empty responses. Try increasing your sampling rate (and fmax) or reducing n_mels.\n",
      "  mel_filter = librosa.filters.mel(sr=sr, n_fft=2048, n_mels=n_mels, fmin=low, fmax=high)\n"
     ]
    }
   ],
   "source": [
    "get_features = feature_extractor_module.extract_audio_features(\"test_audio\\Jason Mraz - I Won't Give Up.wav\")"
   ]
  },
  {
   "cell_type": "code",
   "execution_count": 18,
   "metadata": {},
   "outputs": [
    {
     "name": "stdout",
     "output_type": "stream",
     "text": [
      "{'rms_level': 0.15304744, 'spectral_centroid': 1825.98751617613, 'bandwidth': 2357.427444754664, 'zero_crossing_rate': 0.06420435835387664, 'band_energy_ratio': 1.7815072764606696, 'delta_spectrum_magnitude': 9.95392398628757e-05, 'pitch': 7.901732039309162, 'pitch_strength': 0.1992178436300809, 'mfcc_mean': [-163.1353861414826, 98.28313934291347, 29.302255816151394, 34.12378084102173, 17.75539932174629, 14.018072332944069, 1.8750745909446884, 5.880249927630355, -2.3336648853864332, 6.196238279039009, -1.1362542483651126, 4.309923757949063, -1.9668567870704319], 'mfcc_std': [124.84864850957695, 34.414369267394676, 24.012531665937423, 18.613433270184746, 16.347492043937013, 15.134345609995691, 12.518249463814662, 9.104211793139635, 10.082946097783047, 10.526438125290353, 9.300882051043615, 8.031888389492858, 8.521431679171119], 'average_roughness': 0.0018745110162929597, 'std_roughness': 0.04329562352354981, 'one_2hz_loudness': 0.0, 'three_15hz_loudness': 0.36855344071612933, 'twenty_43hz_loudness': 0.24100337049569093, 'sharpness': 0.16562248172179342, 'gamma_0Hz_energy': 9.64928586864061e-05, 'gamma_3-15Hz_energy': 0.04841950679450068, 'gamma_20-150Hz_energy': 0.7397625217938643, 'gamma_150-1000Hz_energy': 5.685360484684004}\n"
     ]
    }
   ],
   "source": [
    "print(get_features)"
   ]
  },
  {
   "cell_type": "code",
   "execution_count": 5,
   "metadata": {},
   "outputs": [],
   "source": [
    "import pandas as pd\n",
    "import numpy as np\n",
    "df = pd.DataFrame([get_features])\n",
    "\n",
    "# Explicitly set mfcc_mean and mfcc_std columns to object type\n",
    "df['mfcc_mean'] = df['mfcc_mean'].astype(object)\n",
    "df['mfcc_std'] = df['mfcc_std'].astype(object)"
   ]
  },
  {
   "cell_type": "code",
   "execution_count": 6,
   "metadata": {},
   "outputs": [
    {
     "data": {
      "text/html": [
       "<div>\n",
       "<style scoped>\n",
       "    .dataframe tbody tr th:only-of-type {\n",
       "        vertical-align: middle;\n",
       "    }\n",
       "\n",
       "    .dataframe tbody tr th {\n",
       "        vertical-align: top;\n",
       "    }\n",
       "\n",
       "    .dataframe thead th {\n",
       "        text-align: right;\n",
       "    }\n",
       "</style>\n",
       "<table border=\"1\" class=\"dataframe\">\n",
       "  <thead>\n",
       "    <tr style=\"text-align: right;\">\n",
       "      <th></th>\n",
       "      <th>rms_level</th>\n",
       "      <th>spectral_centroid</th>\n",
       "      <th>bandwidth</th>\n",
       "      <th>zero_crossing_rate</th>\n",
       "      <th>band_energy_ratio</th>\n",
       "      <th>delta_spectrum_magnitude</th>\n",
       "      <th>pitch</th>\n",
       "      <th>pitch_strength</th>\n",
       "      <th>mfcc_mean</th>\n",
       "      <th>mfcc_std</th>\n",
       "      <th>average_roughness</th>\n",
       "      <th>std_roughness</th>\n",
       "      <th>one_2hz_loudness</th>\n",
       "      <th>three_15hz_loudness</th>\n",
       "      <th>twenty_43hz_loudness</th>\n",
       "      <th>sharpness</th>\n",
       "      <th>gamma_0Hz_energy</th>\n",
       "      <th>gamma_3-15Hz_energy</th>\n",
       "      <th>gamma_20-150Hz_energy</th>\n",
       "      <th>gamma_150-1000Hz_energy</th>\n",
       "    </tr>\n",
       "  </thead>\n",
       "  <tbody>\n",
       "    <tr>\n",
       "      <th>0</th>\n",
       "      <td>0.153047</td>\n",
       "      <td>1825.987516</td>\n",
       "      <td>2357.427445</td>\n",
       "      <td>0.064204</td>\n",
       "      <td>1.781507</td>\n",
       "      <td>0.0001</td>\n",
       "      <td>7.901732</td>\n",
       "      <td>0.199218</td>\n",
       "      <td>[-163.1353861414826, 98.28313934291347, 29.302...</td>\n",
       "      <td>[124.84864850957695, 34.414369267394676, 24.01...</td>\n",
       "      <td>0.001875</td>\n",
       "      <td>0.043296</td>\n",
       "      <td>0.0</td>\n",
       "      <td>0.368553</td>\n",
       "      <td>0.241003</td>\n",
       "      <td>0.165622</td>\n",
       "      <td>0.000096</td>\n",
       "      <td>0.04842</td>\n",
       "      <td>0.739763</td>\n",
       "      <td>5.68536</td>\n",
       "    </tr>\n",
       "  </tbody>\n",
       "</table>\n",
       "</div>"
      ],
      "text/plain": [
       "   rms_level  spectral_centroid    bandwidth  zero_crossing_rate  \\\n",
       "0   0.153047        1825.987516  2357.427445            0.064204   \n",
       "\n",
       "   band_energy_ratio  delta_spectrum_magnitude     pitch  pitch_strength  \\\n",
       "0           1.781507                    0.0001  7.901732        0.199218   \n",
       "\n",
       "                                           mfcc_mean  \\\n",
       "0  [-163.1353861414826, 98.28313934291347, 29.302...   \n",
       "\n",
       "                                            mfcc_std  average_roughness  \\\n",
       "0  [124.84864850957695, 34.414369267394676, 24.01...           0.001875   \n",
       "\n",
       "   std_roughness  one_2hz_loudness  three_15hz_loudness  twenty_43hz_loudness  \\\n",
       "0       0.043296               0.0             0.368553              0.241003   \n",
       "\n",
       "   sharpness  gamma_0Hz_energy  gamma_3-15Hz_energy  gamma_20-150Hz_energy  \\\n",
       "0   0.165622          0.000096              0.04842               0.739763   \n",
       "\n",
       "   gamma_150-1000Hz_energy  \n",
       "0                  5.68536  "
      ]
     },
     "execution_count": 6,
     "metadata": {},
     "output_type": "execute_result"
    }
   ],
   "source": [
    "df.head()"
   ]
  },
  {
   "cell_type": "code",
   "execution_count": 7,
   "metadata": {},
   "outputs": [
    {
     "name": "stdout",
     "output_type": "stream",
     "text": [
      "<class 'pandas.core.frame.DataFrame'>\n",
      "RangeIndex: 1 entries, 0 to 0\n",
      "Data columns (total 20 columns):\n",
      " #   Column                    Non-Null Count  Dtype  \n",
      "---  ------                    --------------  -----  \n",
      " 0   rms_level                 1 non-null      float32\n",
      " 1   spectral_centroid         1 non-null      float64\n",
      " 2   bandwidth                 1 non-null      float64\n",
      " 3   zero_crossing_rate        1 non-null      float64\n",
      " 4   band_energy_ratio         1 non-null      float64\n",
      " 5   delta_spectrum_magnitude  1 non-null      float64\n",
      " 6   pitch                     1 non-null      float64\n",
      " 7   pitch_strength            1 non-null      float64\n",
      " 8   mfcc_mean                 1 non-null      object \n",
      " 9   mfcc_std                  1 non-null      object \n",
      " 10  average_roughness         1 non-null      float64\n",
      " 11  std_roughness             1 non-null      float64\n",
      " 12  one_2hz_loudness          1 non-null      float64\n",
      " 13  three_15hz_loudness       1 non-null      float64\n",
      " 14  twenty_43hz_loudness      1 non-null      float64\n",
      " 15  sharpness                 1 non-null      float64\n",
      " 16  gamma_0Hz_energy          1 non-null      float64\n",
      " 17  gamma_3-15Hz_energy       1 non-null      float64\n",
      " 18  gamma_20-150Hz_energy     1 non-null      float64\n",
      " 19  gamma_150-1000Hz_energy   1 non-null      float64\n",
      "dtypes: float32(1), float64(17), object(2)\n",
      "memory usage: 288.0+ bytes\n"
     ]
    }
   ],
   "source": [
    "df.info()"
   ]
  },
  {
   "cell_type": "code",
   "execution_count": 8,
   "metadata": {},
   "outputs": [],
   "source": [
    "df = df.drop(columns=[\"mfcc_mean\", \"mfcc_std\"])"
   ]
  },
  {
   "cell_type": "markdown",
   "metadata": {},
   "source": [
    "Index(['rms_level', 'spectral_centroid', 'bandwidth', 'zero_crossing_rate',\n",
    "       'band_energy_ratio', 'delta_spectrum_magnitude', 'pitch',\n",
    "       'pitch_strength', 'average_roughness', 'std_roughness',\n",
    "       'one_2hz_loudness', 'three_15hz_loudness', 'twenty_43hz_loudness',\n",
    "       'sharpness', 'gamma_0Hz_energy', 'gamma_3-15Hz_energy',\n",
    "       'gamma_20-150Hz_energy', 'gamma_150-1000Hz_energy', 'cluster_kmeans'],\n",
    "      dtype='object')"
   ]
  },
  {
   "cell_type": "code",
   "execution_count": 9,
   "metadata": {},
   "outputs": [
    {
     "data": {
      "text/plain": [
       "Index(['rms_level', 'spectral_centroid', 'bandwidth', 'zero_crossing_rate',\n",
       "       'band_energy_ratio', 'delta_spectrum_magnitude', 'pitch',\n",
       "       'pitch_strength', 'average_roughness', 'std_roughness',\n",
       "       'one_2hz_loudness', 'three_15hz_loudness', 'twenty_43hz_loudness',\n",
       "       'sharpness', 'gamma_0Hz_energy', 'gamma_3-15Hz_energy',\n",
       "       'gamma_20-150Hz_energy', 'gamma_150-1000Hz_energy'],\n",
       "      dtype='object')"
      ]
     },
     "execution_count": 9,
     "metadata": {},
     "output_type": "execute_result"
    }
   ],
   "source": [
    "df.columns"
   ]
  },
  {
   "cell_type": "code",
   "execution_count": 10,
   "metadata": {},
   "outputs": [
    {
     "name": "stdout",
     "output_type": "stream",
     "text": [
      "0\n"
     ]
    },
    {
     "name": "stderr",
     "output_type": "stream",
     "text": [
      "C:\\Users\\anike\\AppData\\Local\\Packages\\PythonSoftwareFoundation.Python.3.12_qbz5n2kfra8p0\\LocalCache\\local-packages\\Python312\\site-packages\\sklearn\\base.py:376: InconsistentVersionWarning: Trying to unpickle estimator KMeans from version 1.5.2 when using version 1.4.2. This might lead to breaking code or invalid results. Use at your own risk. For more info please refer to:\n",
      "https://scikit-learn.org/stable/model_persistence.html#security-maintainability-limitations\n",
      "  warnings.warn(\n"
     ]
    }
   ],
   "source": [
    "import joblib\n",
    "model = joblib.load(\"recommendation_module/kmeans_model_final.pkl\")\n",
    "result = model.predict(df)[0]\n",
    "print(result)"
   ]
  },
  {
   "cell_type": "code",
   "execution_count": 16,
   "metadata": {},
   "outputs": [
    {
     "name": "stdout",
     "output_type": "stream",
     "text": [
      "[0, 1, 4, 5, 10, 13, 14, 15, 16, 17]\n"
     ]
    },
    {
     "data": {
      "text/plain": [
       "['(Person) (Noun) - 1 vs 7 Billion.wav',\n",
       " '(Person) (Noun) - A Punk Song About How Law Enforcement Ruins Everything.wav',\n",
       " \"A Fine Frenzy - It's Alive.wav\",\n",
       " 'A Fine Frenzy - Now Is The Start.wav',\n",
       " \"A Fine Frenzy - They Can't If You Don't Let Them.wav\",\n",
       " 'Abayomy Afrobeat Orquestra - Afrodisíaco.wav',\n",
       " 'Abayomy Afrobeat Orquestra - Emi Yaba.wav',\n",
       " 'Abayomy Afrobeat Orquestra - Eru.wav',\n",
       " 'Abayomy Afrobeat Orquestra - Malunguinho.wav',\n",
       " 'Abayomy Afrobeat Orquestra - No Shit.wav']"
      ]
     },
     "execution_count": 16,
     "metadata": {},
     "output_type": "execute_result"
    }
   ],
   "source": [
    "from recommendation_module import preprocessing_df\n",
    "n = 10\n",
    "df_org = pd.read_csv(\"recommendation_module/clustered_data.csv\")\n",
    "recommendations = list(df_org[df_org[\"cluster_kmeans\"] == result][\"Unnamed: 0\"][:n])\n",
    "print(recommendations)\n",
    "df_songs = pd.read_csv(\"recommendation_module/features_data.csv\")\n",
    "songs = []\n",
    "for rec in recommendations:\n",
    "    songs.append(df_songs[\"track_name\"].iloc[rec])\n",
    "songs"
   ]
  },
  {
   "cell_type": "code",
   "execution_count": 13,
   "metadata": {},
   "outputs": [
    {
     "data": {
      "text/plain": [
       "[0, 1, 4, 5, 10, 13, 14, 15, 16, 17]"
      ]
     },
     "execution_count": 13,
     "metadata": {},
     "output_type": "execute_result"
    }
   ],
   "source": [
    "list(df_rec[\"Unnamed: 0\"])"
   ]
  },
  {
   "cell_type": "code",
   "execution_count": 1,
   "metadata": {},
   "outputs": [
    {
     "name": "stderr",
     "output_type": "stream",
     "text": [
      "c:\\Users\\anike\\anaconda3\\Lib\\site-packages\\whisper\\__init__.py:150: FutureWarning: You are using `torch.load` with `weights_only=False` (the current default value), which uses the default pickle module implicitly. It is possible to construct malicious pickle data which will execute arbitrary code during unpickling (See https://github.com/pytorch/pytorch/blob/main/SECURITY.md#untrusted-models for more details). In a future release, the default value for `weights_only` will be flipped to `True`. This limits the functions that could be executed during unpickling. Arbitrary objects will no longer be allowed to be loaded via this mode unless they are explicitly allowlisted by the user via `torch.serialization.add_safe_globals`. We recommend you start setting `weights_only=True` for any use case where you don't have full control of the loaded file. Please open an issue on GitHub for any issues related to this experimental feature.\n",
      "  checkpoint = torch.load(fp, map_location=device)\n"
     ]
    },
    {
     "name": "stdout",
     "output_type": "stream",
     "text": [
      "uploads/Jason Mraz - I Won't Give Up.wav\n"
     ]
    },
    {
     "name": "stderr",
     "output_type": "stream",
     "text": [
      "c:\\Users\\anike\\anaconda3\\Lib\\site-packages\\whisper\\transcribe.py:126: UserWarning: FP16 is not supported on CPU; using FP32 instead\n",
      "  warnings.warn(\"FP16 is not supported on CPU; using FP32 instead\")\n"
     ]
    },
    {
     "name": "stdout",
     "output_type": "stream",
     "text": [
      "{'text': \" When I look into your eyes, He's like a watching the night sky, All of you deep for sunrise, Well, there's so much they hold, And just like they're mold stars, I see that you've come so far, To be right where you are, How old is your soul? Well, I won't give up on us, Even if the skies get rough, I'm giving you all my love, I'm still looking at all, And when you're needing your space, I'll do some navigating, I'll be here patiently waiting to see what you find. Even the stars they burn, Some even fall to fear, Oh, we got it loud, To learn, And God knows where we're, No, I won't give up. I don't want to be someone who walks away, So easily I'm here to stay and make the difference that I can make. I difference as they do, A lot to teach us how to use the tools and gifts we got here, We got a lot at stake. And in the end, you're still my friend, At least we did intend for us to work, We didn't break, we didn't burn, We had to learn how to bend, Without the world, Keeping in mind, I had to learn what I got, And what I'm not, And who I am, I won't give up, Oh, Us, Even if the skies get rough, I can't bend you home, I love, Still looking up, Still looking up, But I won't give up, Oh, I can't go some time, We got a lot at stake. And what I'm not, I'm not, I can't go some time, We didn't break, We didn't break, But I won't give up, Oh, Us, Even if the skies get rough, I can't bend you home, I love, Still looking up, Still looking up, Still looking up, Still looking up, Still looking up, Still looking up,\", 'segments': [{'id': 0, 'seek': 0, 'start': 0.0, 'end': 26.0, 'text': ' When I look into your eyes,', 'tokens': [50364, 1133, 286, 574, 666, 428, 2575, 11, 51664], 'temperature': 0.0, 'avg_logprob': -0.5765517408197577, 'compression_ratio': 0.7714285714285715, 'no_speech_prob': 0.09474089741706848}, {'id': 1, 'seek': 2600, 'start': 26.0, 'end': 31.0, 'text': \" He's like a watching the night sky,\", 'tokens': [50364, 634, 311, 411, 257, 1976, 264, 1818, 5443, 11, 50614], 'temperature': 0.0, 'avg_logprob': -0.3768490685356988, 'compression_ratio': 1.3064516129032258, 'no_speech_prob': 0.15039244294166565}, {'id': 2, 'seek': 2600, 'start': 31.0, 'end': 36.0, 'text': ' All of you deep for sunrise,', 'tokens': [50614, 1057, 295, 291, 2452, 337, 33675, 11, 50864], 'temperature': 0.0, 'avg_logprob': -0.3768490685356988, 'compression_ratio': 1.3064516129032258, 'no_speech_prob': 0.15039244294166565}, {'id': 3, 'seek': 2600, 'start': 36.0, 'end': 42.0, 'text': \" Well, there's so much they hold,\", 'tokens': [50864, 1042, 11, 456, 311, 370, 709, 436, 1797, 11, 51164], 'temperature': 0.0, 'avg_logprob': -0.3768490685356988, 'compression_ratio': 1.3064516129032258, 'no_speech_prob': 0.15039244294166565}, {'id': 4, 'seek': 2600, 'start': 42.0, 'end': 47.0, 'text': \" And just like they're mold stars,\", 'tokens': [51164, 400, 445, 411, 436, 434, 11102, 6105, 11, 51414], 'temperature': 0.0, 'avg_logprob': -0.3768490685356988, 'compression_ratio': 1.3064516129032258, 'no_speech_prob': 0.15039244294166565}, {'id': 5, 'seek': 2600, 'start': 47.0, 'end': 52.0, 'text': \" I see that you've come so far,\", 'tokens': [51414, 286, 536, 300, 291, 600, 808, 370, 1400, 11, 51664], 'temperature': 0.0, 'avg_logprob': -0.3768490685356988, 'compression_ratio': 1.3064516129032258, 'no_speech_prob': 0.15039244294166565}, {'id': 6, 'seek': 5200, 'start': 53.0, 'end': 57.0, 'text': ' To be right where you are,', 'tokens': [50414, 1407, 312, 558, 689, 291, 366, 11, 50614], 'temperature': 0.0, 'avg_logprob': -0.15102517127990722, 'compression_ratio': 1.2181818181818183, 'no_speech_prob': 0.05062037333846092}, {'id': 7, 'seek': 5200, 'start': 58.0, 'end': 61.0, 'text': ' How old is your soul?', 'tokens': [50664, 1012, 1331, 307, 428, 5133, 30, 50814], 'temperature': 0.0, 'avg_logprob': -0.15102517127990722, 'compression_ratio': 1.2181818181818183, 'no_speech_prob': 0.05062037333846092}, {'id': 8, 'seek': 5200, 'start': 64.0, 'end': 69.0, 'text': \" Well, I won't give up on us,\", 'tokens': [50964, 1042, 11, 286, 1582, 380, 976, 493, 322, 505, 11, 51214], 'temperature': 0.0, 'avg_logprob': -0.15102517127990722, 'compression_ratio': 1.2181818181818183, 'no_speech_prob': 0.05062037333846092}, {'id': 9, 'seek': 5200, 'start': 69.0, 'end': 74.0, 'text': ' Even if the skies get rough,', 'tokens': [51214, 2754, 498, 264, 25861, 483, 5903, 11, 51464], 'temperature': 0.0, 'avg_logprob': -0.15102517127990722, 'compression_ratio': 1.2181818181818183, 'no_speech_prob': 0.05062037333846092}, {'id': 10, 'seek': 5200, 'start': 74.0, 'end': 79.0, 'text': \" I'm giving you all my love,\", 'tokens': [51464, 286, 478, 2902, 291, 439, 452, 959, 11, 51714], 'temperature': 0.0, 'avg_logprob': -0.15102517127990722, 'compression_ratio': 1.2181818181818183, 'no_speech_prob': 0.05062037333846092}, {'id': 11, 'seek': 7900, 'start': 80.0, 'end': 85.0, 'text': \" I'm still looking at all,\", 'tokens': [50414, 286, 478, 920, 1237, 412, 439, 11, 50664], 'temperature': 0.0, 'avg_logprob': -0.3019878919734511, 'compression_ratio': 1.2522522522522523, 'no_speech_prob': 0.028162717819213867}, {'id': 12, 'seek': 7900, 'start': 85.0, 'end': 90.0, 'text': \" And when you're needing your space,\", 'tokens': [50664, 400, 562, 291, 434, 18006, 428, 1901, 11, 50914], 'temperature': 0.0, 'avg_logprob': -0.3019878919734511, 'compression_ratio': 1.2522522522522523, 'no_speech_prob': 0.028162717819213867}, {'id': 13, 'seek': 7900, 'start': 90.0, 'end': 95.0, 'text': \" I'll do some navigating,\", 'tokens': [50914, 286, 603, 360, 512, 32054, 11, 51164], 'temperature': 0.0, 'avg_logprob': -0.3019878919734511, 'compression_ratio': 1.2522522522522523, 'no_speech_prob': 0.028162717819213867}, {'id': 14, 'seek': 7900, 'start': 95.0, 'end': 105.0, 'text': \" I'll be here patiently waiting to see what you find.\", 'tokens': [51164, 286, 603, 312, 510, 49001, 3806, 281, 536, 437, 291, 915, 13, 51664], 'temperature': 0.0, 'avg_logprob': -0.3019878919734511, 'compression_ratio': 1.2522522522522523, 'no_speech_prob': 0.028162717819213867}, {'id': 15, 'seek': 10500, 'start': 106.0, 'end': 111.0, 'text': ' Even the stars they burn,', 'tokens': [50414, 2754, 264, 6105, 436, 5064, 11, 50664], 'temperature': 0.0, 'avg_logprob': -0.4132863961014093, 'compression_ratio': 1.1441441441441442, 'no_speech_prob': 0.17974905669689178}, {'id': 16, 'seek': 10500, 'start': 111.0, 'end': 116.0, 'text': ' Some even fall to fear,', 'tokens': [50664, 2188, 754, 2100, 281, 4240, 11, 50914], 'temperature': 0.0, 'avg_logprob': -0.4132863961014093, 'compression_ratio': 1.1441441441441442, 'no_speech_prob': 0.17974905669689178}, {'id': 17, 'seek': 10500, 'start': 116.0, 'end': 119.0, 'text': ' Oh, we got it loud,', 'tokens': [50914, 876, 11, 321, 658, 309, 6588, 11, 51064], 'temperature': 0.0, 'avg_logprob': -0.4132863961014093, 'compression_ratio': 1.1441441441441442, 'no_speech_prob': 0.17974905669689178}, {'id': 18, 'seek': 10500, 'start': 119.0, 'end': 122.0, 'text': ' To learn,', 'tokens': [51064, 1407, 1466, 11, 51214], 'temperature': 0.0, 'avg_logprob': -0.4132863961014093, 'compression_ratio': 1.1441441441441442, 'no_speech_prob': 0.17974905669689178}, {'id': 19, 'seek': 10500, 'start': 122.0, 'end': 124.0, 'text': \" And God knows where we're,\", 'tokens': [51214, 400, 1265, 3255, 689, 321, 434, 11, 51314], 'temperature': 0.0, 'avg_logprob': -0.4132863961014093, 'compression_ratio': 1.1441441441441442, 'no_speech_prob': 0.17974905669689178}, {'id': 20, 'seek': 10500, 'start': 126.0, 'end': 129.0, 'text': \" No, I won't give up.\", 'tokens': [51414, 883, 11, 286, 1582, 380, 976, 493, 13, 51564], 'temperature': 0.0, 'avg_logprob': -0.4132863961014093, 'compression_ratio': 1.1441441441441442, 'no_speech_prob': 0.17974905669689178}, {'id': 21, 'seek': 12900, 'start': 130.0, 'end': 136.0, 'text': \" I don't want to be someone who walks away,\", 'tokens': [50414, 286, 500, 380, 528, 281, 312, 1580, 567, 12896, 1314, 11, 50714], 'temperature': 0.0, 'avg_logprob': -0.2267014067849995, 'compression_ratio': 1.5476190476190477, 'no_speech_prob': 0.5791876912117004}, {'id': 22, 'seek': 12900, 'start': 136.0, 'end': 143.0, 'text': \" So easily I'm here to stay and make the difference that I can make.\", 'tokens': [50714, 407, 3612, 286, 478, 510, 281, 1754, 293, 652, 264, 2649, 300, 286, 393, 652, 13, 51064], 'temperature': 0.0, 'avg_logprob': -0.2267014067849995, 'compression_ratio': 1.5476190476190477, 'no_speech_prob': 0.5791876912117004}, {'id': 23, 'seek': 12900, 'start': 143.0, 'end': 145.0, 'text': ' I difference as they do,', 'tokens': [51064, 286, 2649, 382, 436, 360, 11, 51164], 'temperature': 0.0, 'avg_logprob': -0.2267014067849995, 'compression_ratio': 1.5476190476190477, 'no_speech_prob': 0.5791876912117004}, {'id': 24, 'seek': 12900, 'start': 145.0, 'end': 149.0, 'text': ' A lot to teach us how to use the tools and gifts we got here,', 'tokens': [51164, 316, 688, 281, 2924, 505, 577, 281, 764, 264, 3873, 293, 11449, 321, 658, 510, 11, 51364], 'temperature': 0.0, 'avg_logprob': -0.2267014067849995, 'compression_ratio': 1.5476190476190477, 'no_speech_prob': 0.5791876912117004}, {'id': 25, 'seek': 12900, 'start': 149.0, 'end': 154.0, 'text': ' We got a lot at stake.', 'tokens': [51364, 492, 658, 257, 688, 412, 10407, 13, 51614], 'temperature': 0.0, 'avg_logprob': -0.2267014067849995, 'compression_ratio': 1.5476190476190477, 'no_speech_prob': 0.5791876912117004}, {'id': 26, 'seek': 12900, 'start': 154.0, 'end': 156.0, 'text': \" And in the end, you're still my friend,\", 'tokens': [51614, 400, 294, 264, 917, 11, 291, 434, 920, 452, 1277, 11, 51714], 'temperature': 0.0, 'avg_logprob': -0.2267014067849995, 'compression_ratio': 1.5476190476190477, 'no_speech_prob': 0.5791876912117004}, {'id': 27, 'seek': 15600, 'start': 156.0, 'end': 158.0, 'text': ' At least we did intend for us to work,', 'tokens': [50364, 1711, 1935, 321, 630, 19759, 337, 505, 281, 589, 11, 50464], 'temperature': 0.0, 'avg_logprob': -0.19408549094686703, 'compression_ratio': 1.546583850931677, 'no_speech_prob': 0.20596806704998016}, {'id': 28, 'seek': 15600, 'start': 158.0, 'end': 160.0, 'text': \" We didn't break, we didn't burn,\", 'tokens': [50464, 492, 994, 380, 1821, 11, 321, 994, 380, 5064, 11, 50564], 'temperature': 0.0, 'avg_logprob': -0.19408549094686703, 'compression_ratio': 1.546583850931677, 'no_speech_prob': 0.20596806704998016}, {'id': 29, 'seek': 15600, 'start': 160.0, 'end': 163.0, 'text': ' We had to learn how to bend,', 'tokens': [50564, 492, 632, 281, 1466, 577, 281, 11229, 11, 50714], 'temperature': 0.0, 'avg_logprob': -0.19408549094686703, 'compression_ratio': 1.546583850931677, 'no_speech_prob': 0.20596806704998016}, {'id': 30, 'seek': 15600, 'start': 163.0, 'end': 164.0, 'text': ' Without the world,', 'tokens': [50714, 9129, 264, 1002, 11, 50764], 'temperature': 0.0, 'avg_logprob': -0.19408549094686703, 'compression_ratio': 1.546583850931677, 'no_speech_prob': 0.20596806704998016}, {'id': 31, 'seek': 15600, 'start': 164.0, 'end': 165.0, 'text': ' Keeping in mind,', 'tokens': [50764, 30187, 294, 1575, 11, 50814], 'temperature': 0.0, 'avg_logprob': -0.19408549094686703, 'compression_ratio': 1.546583850931677, 'no_speech_prob': 0.20596806704998016}, {'id': 32, 'seek': 15600, 'start': 165.0, 'end': 168.0, 'text': ' I had to learn what I got,', 'tokens': [50814, 286, 632, 281, 1466, 437, 286, 658, 11, 50964], 'temperature': 0.0, 'avg_logprob': -0.19408549094686703, 'compression_ratio': 1.546583850931677, 'no_speech_prob': 0.20596806704998016}, {'id': 33, 'seek': 15600, 'start': 168.0, 'end': 170.0, 'text': \" And what I'm not,\", 'tokens': [50964, 400, 437, 286, 478, 406, 11, 51064], 'temperature': 0.0, 'avg_logprob': -0.19408549094686703, 'compression_ratio': 1.546583850931677, 'no_speech_prob': 0.20596806704998016}, {'id': 34, 'seek': 15600, 'start': 170.0, 'end': 174.0, 'text': ' And who I am,', 'tokens': [51064, 400, 567, 286, 669, 11, 51264], 'temperature': 0.0, 'avg_logprob': -0.19408549094686703, 'compression_ratio': 1.546583850931677, 'no_speech_prob': 0.20596806704998016}, {'id': 35, 'seek': 15600, 'start': 174.0, 'end': 177.0, 'text': \" I won't give up,\", 'tokens': [51264, 286, 1582, 380, 976, 493, 11, 51414], 'temperature': 0.0, 'avg_logprob': -0.19408549094686703, 'compression_ratio': 1.546583850931677, 'no_speech_prob': 0.20596806704998016}, {'id': 36, 'seek': 15600, 'start': 177.0, 'end': 178.0, 'text': ' Oh,', 'tokens': [51414, 876, 11, 51464], 'temperature': 0.0, 'avg_logprob': -0.19408549094686703, 'compression_ratio': 1.546583850931677, 'no_speech_prob': 0.20596806704998016}, {'id': 37, 'seek': 15600, 'start': 178.0, 'end': 180.0, 'text': ' Us,', 'tokens': [51464, 4958, 11, 51564], 'temperature': 0.0, 'avg_logprob': -0.19408549094686703, 'compression_ratio': 1.546583850931677, 'no_speech_prob': 0.20596806704998016}, {'id': 38, 'seek': 15600, 'start': 180.0, 'end': 184.0, 'text': ' Even if the skies get rough,', 'tokens': [51564, 2754, 498, 264, 25861, 483, 5903, 11, 51764], 'temperature': 0.0, 'avg_logprob': -0.19408549094686703, 'compression_ratio': 1.546583850931677, 'no_speech_prob': 0.20596806704998016}, {'id': 39, 'seek': 18400, 'start': 185.0, 'end': 188.0, 'text': \" I can't bend you home,\", 'tokens': [50414, 286, 393, 380, 11229, 291, 1280, 11, 50564], 'temperature': 0.0, 'avg_logprob': -0.3842906305345438, 'compression_ratio': 1.3333333333333333, 'no_speech_prob': 0.11863293498754501}, {'id': 40, 'seek': 18400, 'start': 188.0, 'end': 190.0, 'text': ' I love,', 'tokens': [50564, 286, 959, 11, 50664], 'temperature': 0.0, 'avg_logprob': -0.3842906305345438, 'compression_ratio': 1.3333333333333333, 'no_speech_prob': 0.11863293498754501}, {'id': 41, 'seek': 18400, 'start': 190.0, 'end': 192.0, 'text': ' Still looking up,', 'tokens': [50664, 8291, 1237, 493, 11, 50764], 'temperature': 0.0, 'avg_logprob': -0.3842906305345438, 'compression_ratio': 1.3333333333333333, 'no_speech_prob': 0.11863293498754501}, {'id': 42, 'seek': 18400, 'start': 192.0, 'end': 195.0, 'text': ' Still looking up,', 'tokens': [50764, 8291, 1237, 493, 11, 50914], 'temperature': 0.0, 'avg_logprob': -0.3842906305345438, 'compression_ratio': 1.3333333333333333, 'no_speech_prob': 0.11863293498754501}, {'id': 43, 'seek': 18400, 'start': 195.0, 'end': 198.0, 'text': \" But I won't give up,\", 'tokens': [50914, 583, 286, 1582, 380, 976, 493, 11, 51064], 'temperature': 0.0, 'avg_logprob': -0.3842906305345438, 'compression_ratio': 1.3333333333333333, 'no_speech_prob': 0.11863293498754501}, {'id': 44, 'seek': 18400, 'start': 198.0, 'end': 200.0, 'text': ' Oh,', 'tokens': [51064, 876, 11, 51164], 'temperature': 0.0, 'avg_logprob': -0.3842906305345438, 'compression_ratio': 1.3333333333333333, 'no_speech_prob': 0.11863293498754501}, {'id': 45, 'seek': 18400, 'start': 200.0, 'end': 203.0, 'text': \" I can't go some time,\", 'tokens': [51164, 286, 393, 380, 352, 512, 565, 11, 51314], 'temperature': 0.0, 'avg_logprob': -0.3842906305345438, 'compression_ratio': 1.3333333333333333, 'no_speech_prob': 0.11863293498754501}, {'id': 46, 'seek': 18400, 'start': 203.0, 'end': 209.0, 'text': ' We got a lot at stake.', 'tokens': [51314, 492, 658, 257, 688, 412, 10407, 13, 51614], 'temperature': 0.0, 'avg_logprob': -0.3842906305345438, 'compression_ratio': 1.3333333333333333, 'no_speech_prob': 0.11863293498754501}, {'id': 47, 'seek': 20900, 'start': 210.0, 'end': 213.0, 'text': \" And what I'm not,\", 'tokens': [50414, 400, 437, 286, 478, 406, 11, 50564], 'temperature': 0.8, 'avg_logprob': -0.3062808824622113, 'compression_ratio': 2.0364963503649633, 'no_speech_prob': 0.3149617314338684}, {'id': 48, 'seek': 20900, 'start': 213.0, 'end': 214.0, 'text': \" I'm not,\", 'tokens': [50564, 286, 478, 406, 11, 50614], 'temperature': 0.8, 'avg_logprob': -0.3062808824622113, 'compression_ratio': 2.0364963503649633, 'no_speech_prob': 0.3149617314338684}, {'id': 49, 'seek': 20900, 'start': 214.0, 'end': 216.0, 'text': \" I can't go some time,\", 'tokens': [50614, 286, 393, 380, 352, 512, 565, 11, 50714], 'temperature': 0.8, 'avg_logprob': -0.3062808824622113, 'compression_ratio': 2.0364963503649633, 'no_speech_prob': 0.3149617314338684}, {'id': 50, 'seek': 20900, 'start': 216.0, 'end': 217.0, 'text': \" We didn't break,\", 'tokens': [50714, 492, 994, 380, 1821, 11, 50764], 'temperature': 0.8, 'avg_logprob': -0.3062808824622113, 'compression_ratio': 2.0364963503649633, 'no_speech_prob': 0.3149617314338684}, {'id': 51, 'seek': 20900, 'start': 217.0, 'end': 218.0, 'text': \" We didn't break,\", 'tokens': [50764, 492, 994, 380, 1821, 11, 50814], 'temperature': 0.8, 'avg_logprob': -0.3062808824622113, 'compression_ratio': 2.0364963503649633, 'no_speech_prob': 0.3149617314338684}, {'id': 52, 'seek': 20900, 'start': 218.0, 'end': 220.0, 'text': \" But I won't give up,\", 'tokens': [50814, 583, 286, 1582, 380, 976, 493, 11, 50914], 'temperature': 0.8, 'avg_logprob': -0.3062808824622113, 'compression_ratio': 2.0364963503649633, 'no_speech_prob': 0.3149617314338684}, {'id': 53, 'seek': 20900, 'start': 220.0, 'end': 221.0, 'text': ' Oh,', 'tokens': [50914, 876, 11, 50964], 'temperature': 0.8, 'avg_logprob': -0.3062808824622113, 'compression_ratio': 2.0364963503649633, 'no_speech_prob': 0.3149617314338684}, {'id': 54, 'seek': 20900, 'start': 221.0, 'end': 222.0, 'text': ' Us,', 'tokens': [50964, 4958, 11, 51014], 'temperature': 0.8, 'avg_logprob': -0.3062808824622113, 'compression_ratio': 2.0364963503649633, 'no_speech_prob': 0.3149617314338684}, {'id': 55, 'seek': 20900, 'start': 222.0, 'end': 225.0, 'text': ' Even if the skies get rough,', 'tokens': [51014, 2754, 498, 264, 25861, 483, 5903, 11, 51164], 'temperature': 0.8, 'avg_logprob': -0.3062808824622113, 'compression_ratio': 2.0364963503649633, 'no_speech_prob': 0.3149617314338684}, {'id': 56, 'seek': 20900, 'start': 225.0, 'end': 226.0, 'text': \" I can't bend you home,\", 'tokens': [51164, 286, 393, 380, 11229, 291, 1280, 11, 51214], 'temperature': 0.8, 'avg_logprob': -0.3062808824622113, 'compression_ratio': 2.0364963503649633, 'no_speech_prob': 0.3149617314338684}, {'id': 57, 'seek': 20900, 'start': 226.0, 'end': 228.0, 'text': ' I love,', 'tokens': [51214, 286, 959, 11, 51314], 'temperature': 0.8, 'avg_logprob': -0.3062808824622113, 'compression_ratio': 2.0364963503649633, 'no_speech_prob': 0.3149617314338684}, {'id': 58, 'seek': 20900, 'start': 228.0, 'end': 231.0, 'text': ' Still looking up,', 'tokens': [51314, 8291, 1237, 493, 11, 51464], 'temperature': 0.8, 'avg_logprob': -0.3062808824622113, 'compression_ratio': 2.0364963503649633, 'no_speech_prob': 0.3149617314338684}, {'id': 59, 'seek': 20900, 'start': 231.0, 'end': 233.0, 'text': ' Still looking up,', 'tokens': [51464, 8291, 1237, 493, 11, 51564], 'temperature': 0.8, 'avg_logprob': -0.3062808824622113, 'compression_ratio': 2.0364963503649633, 'no_speech_prob': 0.3149617314338684}, {'id': 60, 'seek': 20900, 'start': 233.0, 'end': 234.0, 'text': ' Still looking up,', 'tokens': [51564, 8291, 1237, 493, 11, 51614], 'temperature': 0.8, 'avg_logprob': -0.3062808824622113, 'compression_ratio': 2.0364963503649633, 'no_speech_prob': 0.3149617314338684}, {'id': 61, 'seek': 20900, 'start': 234.0, 'end': 236.0, 'text': ' Still looking up,', 'tokens': [51614, 8291, 1237, 493, 11, 51714], 'temperature': 0.8, 'avg_logprob': -0.3062808824622113, 'compression_ratio': 2.0364963503649633, 'no_speech_prob': 0.3149617314338684}, {'id': 62, 'seek': 20900, 'start': 236.0, 'end': 237.0, 'text': ' Still looking up,', 'tokens': [51714, 8291, 1237, 493, 11, 51764], 'temperature': 0.8, 'avg_logprob': -0.3062808824622113, 'compression_ratio': 2.0364963503649633, 'no_speech_prob': 0.3149617314338684}, {'id': 63, 'seek': 20900, 'start': 237.0, 'end': 238.0, 'text': ' Still looking up,', 'tokens': [51764, 8291, 1237, 493, 11, 51814], 'temperature': 0.8, 'avg_logprob': -0.3062808824622113, 'compression_ratio': 2.0364963503649633, 'no_speech_prob': 0.3149617314338684}], 'language': 'en'}\n"
     ]
    }
   ],
   "source": [
    "import models\n",
    "import os\n",
    "import whisper\n",
    "model = whisper.load_model(\"tiny\")\n",
    "filepath = 'uploads/'+os.listdir('uploads')[0]\n",
    "print(filepath)\n",
    "print(model.transcribe(filepath))"
   ]
  },
  {
   "cell_type": "code",
   "execution_count": 2,
   "metadata": {},
   "outputs": [
    {
     "name": "stderr",
     "output_type": "stream",
     "text": [
      "c:\\Users\\anike\\anaconda3\\Lib\\site-packages\\whisper\\__init__.py:150: FutureWarning: You are using `torch.load` with `weights_only=False` (the current default value), which uses the default pickle module implicitly. It is possible to construct malicious pickle data which will execute arbitrary code during unpickling (See https://github.com/pytorch/pytorch/blob/main/SECURITY.md#untrusted-models for more details). In a future release, the default value for `weights_only` will be flipped to `True`. This limits the functions that could be executed during unpickling. Arbitrary objects will no longer be allowed to be loaded via this mode unless they are explicitly allowlisted by the user via `torch.serialization.add_safe_globals`. We recommend you start setting `weights_only=True` for any use case where you don't have full control of the loaded file. Please open an issue on GitHub for any issues related to this experimental feature.\n",
      "  checkpoint = torch.load(fp, map_location=device)\n",
      "c:\\Users\\anike\\anaconda3\\Lib\\site-packages\\whisper\\transcribe.py:126: UserWarning: FP16 is not supported on CPU; using FP32 instead\n",
      "  warnings.warn(\"FP16 is not supported on CPU; using FP32 instead\")\n"
     ]
    },
    {
     "data": {
      "text/plain": [
       "\" When I look into your eyes, He's like a watching the night sky, All of you deep for sunrise, Well, there's so much they hold, And just like they're mold stars, I see that you've come so far, To be right where you are, How old is your soul? Well, I won't give up on us, Even if the skies get rough, I'm giving you all my love, I'm still looking at all, And when you're needing your space, I'll do some navigating, I'll be here patiently waiting to see what you find. Even the stars they burn, Some even fall to fear, Oh, we got it loud, To learn, And God knows where we're, No, I won't give up. I don't want to be someone who walks away, So easily I'm here to stay and make the difference that I can make. I difference as they do, A lot to teach us how to use the tools and gifts we got here, We got a lot at stake. And in the end, you're still my friend, At least we did intend for us to work, We didn't break, we didn't burn, We had to learn how to bend, Without the world, Keeping in mind, I had to learn what I got, And what I'm not, And who I am, I won't give up, Oh, Us, Even if the skies get rough, I can't bend you home, I love, Still looking up, Still looking up, But I won't give up, Oh, I can't go some time, We got a lot at stake. And what I'm not, känns the way you seem in the事, But I won't not, Disショe with the hills, Sigh, You've kept the Verivars, Hey, I'm going to paint! Come, Master, You are my singing voice, This evening meetings are opened. Again, Together I will be back for you. This evening meetings are starting to reflect.\""
      ]
     },
     "execution_count": 2,
     "metadata": {},
     "output_type": "execute_result"
    }
   ],
   "source": [
    "models.transcriber(filepath)"
   ]
  },
  {
   "cell_type": "code",
   "execution_count": null,
   "metadata": {},
   "outputs": [],
   "source": []
  }
 ],
 "metadata": {
  "kernelspec": {
   "display_name": "base",
   "language": "python",
   "name": "python3"
  },
  "language_info": {
   "codemirror_mode": {
    "name": "ipython",
    "version": 3
   },
   "file_extension": ".py",
   "mimetype": "text/x-python",
   "name": "python",
   "nbconvert_exporter": "python",
   "pygments_lexer": "ipython3",
   "version": "3.11.7"
  }
 },
 "nbformat": 4,
 "nbformat_minor": 2
}
