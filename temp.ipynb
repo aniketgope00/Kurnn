{
 "cells": [
  {
   "cell_type": "code",
   "execution_count": 1,
   "metadata": {},
   "outputs": [],
   "source": [
    "from recommendation_module import feature_extractor_module"
   ]
  },
  {
   "cell_type": "code",
   "execution_count": 2,
   "metadata": {},
   "outputs": [],
   "source": [
    "from recommendation_module import preprocessing_df"
   ]
  },
  {
   "cell_type": "code",
   "execution_count": 3,
   "metadata": {},
   "outputs": [
    {
     "name": "stderr",
     "output_type": "stream",
     "text": [
      "c:\\Users\\anike\\OneDrive\\Desktop\\website\\Kurnn\\Kurnn\\recommendation_module\\feature_extractor_module.py:76: UserWarning: Empty filters detected in mel frequency basis. Some channels will produce empty responses. Try increasing your sampling rate (and fmax) or reducing n_mels.\n",
      "  mel_filter = librosa.filters.mel(sr=sr, n_fft=2048, n_mels=n_mels, fmin=low, fmax=high)\n"
     ]
    }
   ],
   "source": [
    "get_features = feature_extractor_module.extract_audio_features(\"test_audio/Jason Mraz - I Won't Give Up.wav\")"
   ]
  },
  {
   "cell_type": "code",
   "execution_count": 4,
   "metadata": {},
   "outputs": [
    {
     "name": "stdout",
     "output_type": "stream",
     "text": [
      "{'rms_level': 0.15304744, 'spectral_centroid': 1825.98751617613, 'bandwidth': 2357.427444754664, 'zero_crossing_rate': 0.06420435835387664, 'band_energy_ratio': 1.7815072764606696, 'delta_spectrum_magnitude': 9.95392398628757e-05, 'pitch': 7.901732039309162, 'pitch_strength': 0.1992178436300809, 'mfcc_mean': [-163.1353861414826, 98.28313934291347, 29.302255816151394, 34.12378084102173, 17.75539932174629, 14.018072332944069, 1.8750745909446884, 5.880249927630355, -2.3336648853864332, 6.196238279039009, -1.1362542483651126, 4.309923757949063, -1.9668567870704319], 'mfcc_std': [124.84864850957695, 34.414369267394676, 24.012531665937423, 18.613433270184746, 16.347492043937013, 15.134345609995691, 12.518249463814662, 9.104211793139635, 10.082946097783047, 10.526438125290353, 9.300882051043615, 8.031888389492858, 8.521431679171119], 'average_roughness': 0.0018745110162929597, 'std_roughness': 0.04329562352354981, 'one_2hz_loudness': 0.0, 'three_15hz_loudness': 0.36855344071612933, 'twenty_43hz_loudness': 0.24100337049569093, 'sharpness': 0.16562248172179342, 'gamma_0Hz_energy': 9.64928586864061e-05, 'gamma_3-15Hz_energy': 0.04841950679450068, 'gamma_20-150Hz_energy': 0.7397625217938644, 'gamma_150-1000Hz_energy': 5.685360484684004}\n"
     ]
    }
   ],
   "source": [
    "print(get_features)"
   ]
  },
  {
   "cell_type": "code",
   "execution_count": 5,
   "metadata": {},
   "outputs": [],
   "source": [
    "import pandas as pd\n",
    "import numpy as np\n",
    "df = pd.DataFrame([get_features])\n",
    "\n",
    "# Explicitly set mfcc_mean and mfcc_std columns to object type\n",
    "df['mfcc_mean'] = df['mfcc_mean'].astype(object)\n",
    "df['mfcc_std'] = df['mfcc_std'].astype(object)"
   ]
  },
  {
   "cell_type": "code",
   "execution_count": 6,
   "metadata": {},
   "outputs": [
    {
     "data": {
      "text/html": [
       "<div>\n",
       "<style scoped>\n",
       "    .dataframe tbody tr th:only-of-type {\n",
       "        vertical-align: middle;\n",
       "    }\n",
       "\n",
       "    .dataframe tbody tr th {\n",
       "        vertical-align: top;\n",
       "    }\n",
       "\n",
       "    .dataframe thead th {\n",
       "        text-align: right;\n",
       "    }\n",
       "</style>\n",
       "<table border=\"1\" class=\"dataframe\">\n",
       "  <thead>\n",
       "    <tr style=\"text-align: right;\">\n",
       "      <th></th>\n",
       "      <th>rms_level</th>\n",
       "      <th>spectral_centroid</th>\n",
       "      <th>bandwidth</th>\n",
       "      <th>zero_crossing_rate</th>\n",
       "      <th>band_energy_ratio</th>\n",
       "      <th>delta_spectrum_magnitude</th>\n",
       "      <th>pitch</th>\n",
       "      <th>pitch_strength</th>\n",
       "      <th>mfcc_mean</th>\n",
       "      <th>mfcc_std</th>\n",
       "      <th>average_roughness</th>\n",
       "      <th>std_roughness</th>\n",
       "      <th>one_2hz_loudness</th>\n",
       "      <th>three_15hz_loudness</th>\n",
       "      <th>twenty_43hz_loudness</th>\n",
       "      <th>sharpness</th>\n",
       "      <th>gamma_0Hz_energy</th>\n",
       "      <th>gamma_3-15Hz_energy</th>\n",
       "      <th>gamma_20-150Hz_energy</th>\n",
       "      <th>gamma_150-1000Hz_energy</th>\n",
       "    </tr>\n",
       "  </thead>\n",
       "  <tbody>\n",
       "    <tr>\n",
       "      <th>0</th>\n",
       "      <td>0.153047</td>\n",
       "      <td>1825.987516</td>\n",
       "      <td>2357.427445</td>\n",
       "      <td>0.064204</td>\n",
       "      <td>1.781507</td>\n",
       "      <td>0.0001</td>\n",
       "      <td>7.901732</td>\n",
       "      <td>0.199218</td>\n",
       "      <td>[-163.1353861414826, 98.28313934291347, 29.302...</td>\n",
       "      <td>[124.84864850957695, 34.414369267394676, 24.01...</td>\n",
       "      <td>0.001875</td>\n",
       "      <td>0.043296</td>\n",
       "      <td>0.0</td>\n",
       "      <td>0.368553</td>\n",
       "      <td>0.241003</td>\n",
       "      <td>0.165622</td>\n",
       "      <td>0.000096</td>\n",
       "      <td>0.04842</td>\n",
       "      <td>0.739763</td>\n",
       "      <td>5.68536</td>\n",
       "    </tr>\n",
       "  </tbody>\n",
       "</table>\n",
       "</div>"
      ],
      "text/plain": [
       "   rms_level  spectral_centroid    bandwidth  zero_crossing_rate  \\\n",
       "0   0.153047        1825.987516  2357.427445            0.064204   \n",
       "\n",
       "   band_energy_ratio  delta_spectrum_magnitude     pitch  pitch_strength  \\\n",
       "0           1.781507                    0.0001  7.901732        0.199218   \n",
       "\n",
       "                                           mfcc_mean  \\\n",
       "0  [-163.1353861414826, 98.28313934291347, 29.302...   \n",
       "\n",
       "                                            mfcc_std  average_roughness  \\\n",
       "0  [124.84864850957695, 34.414369267394676, 24.01...           0.001875   \n",
       "\n",
       "   std_roughness  one_2hz_loudness  three_15hz_loudness  twenty_43hz_loudness  \\\n",
       "0       0.043296               0.0             0.368553              0.241003   \n",
       "\n",
       "   sharpness  gamma_0Hz_energy  gamma_3-15Hz_energy  gamma_20-150Hz_energy  \\\n",
       "0   0.165622          0.000096              0.04842               0.739763   \n",
       "\n",
       "   gamma_150-1000Hz_energy  \n",
       "0                  5.68536  "
      ]
     },
     "execution_count": 6,
     "metadata": {},
     "output_type": "execute_result"
    }
   ],
   "source": [
    "df.head()"
   ]
  },
  {
   "cell_type": "code",
   "execution_count": 7,
   "metadata": {},
   "outputs": [
    {
     "name": "stdout",
     "output_type": "stream",
     "text": [
      "<class 'pandas.core.frame.DataFrame'>\n",
      "RangeIndex: 1 entries, 0 to 0\n",
      "Data columns (total 20 columns):\n",
      " #   Column                    Non-Null Count  Dtype  \n",
      "---  ------                    --------------  -----  \n",
      " 0   rms_level                 1 non-null      float32\n",
      " 1   spectral_centroid         1 non-null      float64\n",
      " 2   bandwidth                 1 non-null      float64\n",
      " 3   zero_crossing_rate        1 non-null      float64\n",
      " 4   band_energy_ratio         1 non-null      float64\n",
      " 5   delta_spectrum_magnitude  1 non-null      float64\n",
      " 6   pitch                     1 non-null      float64\n",
      " 7   pitch_strength            1 non-null      float64\n",
      " 8   mfcc_mean                 1 non-null      object \n",
      " 9   mfcc_std                  1 non-null      object \n",
      " 10  average_roughness         1 non-null      float64\n",
      " 11  std_roughness             1 non-null      float64\n",
      " 12  one_2hz_loudness          1 non-null      float64\n",
      " 13  three_15hz_loudness       1 non-null      float64\n",
      " 14  twenty_43hz_loudness      1 non-null      float64\n",
      " 15  sharpness                 1 non-null      float64\n",
      " 16  gamma_0Hz_energy          1 non-null      float64\n",
      " 17  gamma_3-15Hz_energy       1 non-null      float64\n",
      " 18  gamma_20-150Hz_energy     1 non-null      float64\n",
      " 19  gamma_150-1000Hz_energy   1 non-null      float64\n",
      "dtypes: float32(1), float64(17), object(2)\n",
      "memory usage: 288.0+ bytes\n"
     ]
    }
   ],
   "source": [
    "df.info()"
   ]
  },
  {
   "cell_type": "code",
   "execution_count": 8,
   "metadata": {},
   "outputs": [
    {
     "ename": "FileNotFoundError",
     "evalue": "[Errno 2] No such file or directory: 'kmeans.pkl'",
     "output_type": "error",
     "traceback": [
      "\u001b[1;31m---------------------------------------------------------------------------\u001b[0m",
      "\u001b[1;31mFileNotFoundError\u001b[0m                         Traceback (most recent call last)",
      "Cell \u001b[1;32mIn[8], line 1\u001b[0m\n\u001b[1;32m----> 1\u001b[0m result \u001b[38;5;241m=\u001b[39m \u001b[43mpreprocessing_df\u001b[49m\u001b[38;5;241;43m.\u001b[39;49m\u001b[43mget_labels\u001b[49m\u001b[43m(\u001b[49m\u001b[43mdf\u001b[49m\u001b[43m)\u001b[49m\n\u001b[0;32m      2\u001b[0m \u001b[38;5;28mprint\u001b[39m(result)\n",
      "File \u001b[1;32mc:\\Users\\anike\\OneDrive\\Desktop\\website\\Kurnn\\Kurnn\\recommendation_module\\preprocessing_df.py:105\u001b[0m, in \u001b[0;36mget_labels\u001b[1;34m(df)\u001b[0m\n\u001b[0;32m    103\u001b[0m df \u001b[38;5;241m=\u001b[39m df\u001b[38;5;241m.\u001b[39mdrop(columns \u001b[38;5;241m=\u001b[39m [\u001b[38;5;124m\"\u001b[39m\u001b[38;5;124mmfcc_mean\u001b[39m\u001b[38;5;124m\"\u001b[39m, \u001b[38;5;124m\"\u001b[39m\u001b[38;5;124mmfcc_std\u001b[39m\u001b[38;5;124m\"\u001b[39m])\n\u001b[0;32m    104\u001b[0m df_scaled \u001b[38;5;241m=\u001b[39m scale_df(df)\n\u001b[1;32m--> 105\u001b[0m model \u001b[38;5;241m=\u001b[39m \u001b[43mjoblib\u001b[49m\u001b[38;5;241;43m.\u001b[39;49m\u001b[43mload\u001b[49m\u001b[43m(\u001b[49m\u001b[38;5;124;43m\"\u001b[39;49m\u001b[38;5;124;43mkmeans.pkl\u001b[39;49m\u001b[38;5;124;43m\"\u001b[39;49m\u001b[43m)\u001b[49m\n\u001b[0;32m    106\u001b[0m result \u001b[38;5;241m=\u001b[39m model\u001b[38;5;241m.\u001b[39mpredict(df_scaled)\n\u001b[0;32m    107\u001b[0m \u001b[38;5;28;01mreturn\u001b[39;00m result\n",
      "File \u001b[1;32m~\\AppData\\Local\\Packages\\PythonSoftwareFoundation.Python.3.12_qbz5n2kfra8p0\\LocalCache\\local-packages\\Python312\\site-packages\\joblib\\numpy_pickle.py:650\u001b[0m, in \u001b[0;36mload\u001b[1;34m(filename, mmap_mode)\u001b[0m\n\u001b[0;32m    648\u001b[0m         obj \u001b[38;5;241m=\u001b[39m _unpickle(fobj)\n\u001b[0;32m    649\u001b[0m \u001b[38;5;28;01melse\u001b[39;00m:\n\u001b[1;32m--> 650\u001b[0m     \u001b[38;5;28;01mwith\u001b[39;00m \u001b[38;5;28;43mopen\u001b[39;49m\u001b[43m(\u001b[49m\u001b[43mfilename\u001b[49m\u001b[43m,\u001b[49m\u001b[43m \u001b[49m\u001b[38;5;124;43m'\u001b[39;49m\u001b[38;5;124;43mrb\u001b[39;49m\u001b[38;5;124;43m'\u001b[39;49m\u001b[43m)\u001b[49m \u001b[38;5;28;01mas\u001b[39;00m f:\n\u001b[0;32m    651\u001b[0m         \u001b[38;5;28;01mwith\u001b[39;00m _read_fileobject(f, filename, mmap_mode) \u001b[38;5;28;01mas\u001b[39;00m fobj:\n\u001b[0;32m    652\u001b[0m             \u001b[38;5;28;01mif\u001b[39;00m \u001b[38;5;28misinstance\u001b[39m(fobj, \u001b[38;5;28mstr\u001b[39m):\n\u001b[0;32m    653\u001b[0m                 \u001b[38;5;66;03m# if the returned file object is a string, this means we\u001b[39;00m\n\u001b[0;32m    654\u001b[0m                 \u001b[38;5;66;03m# try to load a pickle file generated with an version of\u001b[39;00m\n\u001b[0;32m    655\u001b[0m                 \u001b[38;5;66;03m# Joblib so we load it with joblib compatibility function.\u001b[39;00m\n",
      "\u001b[1;31mFileNotFoundError\u001b[0m: [Errno 2] No such file or directory: 'kmeans.pkl'"
     ]
    }
   ],
   "source": [
    "result = preprocessing_df.get_labels(df)\n",
    "print(result)"
   ]
  },
  {
   "cell_type": "code",
   "execution_count": null,
   "metadata": {},
   "outputs": [],
   "source": []
  }
 ],
 "metadata": {
  "kernelspec": {
   "display_name": "Python 3",
   "language": "python",
   "name": "python3"
  },
  "language_info": {
   "codemirror_mode": {
    "name": "ipython",
    "version": 3
   },
   "file_extension": ".py",
   "mimetype": "text/x-python",
   "name": "python",
   "nbconvert_exporter": "python",
   "pygments_lexer": "ipython3",
   "version": "3.12.7"
  }
 },
 "nbformat": 4,
 "nbformat_minor": 2
}
