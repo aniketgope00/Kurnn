{
 "cells": [
  {
   "cell_type": "code",
   "execution_count": 1,
   "metadata": {},
   "outputs": [],
   "source": [
    "from recommendation_module import feature_extractor_module"
   ]
  },
  {
   "cell_type": "code",
   "execution_count": 2,
   "metadata": {},
   "outputs": [],
   "source": [
    "from recommendation_module import preprocessing_df"
   ]
  },
  {
   "cell_type": "code",
   "execution_count": 17,
   "metadata": {},
   "outputs": [
    {
     "name": "stderr",
     "output_type": "stream",
     "text": [
      "<>:1: SyntaxWarning: invalid escape sequence '\\J'\n",
      "<>:1: SyntaxWarning: invalid escape sequence '\\J'\n",
      "C:\\Users\\anike\\AppData\\Local\\Temp\\ipykernel_16300\\3163727555.py:1: SyntaxWarning: invalid escape sequence '\\J'\n",
      "  get_features = feature_extractor_module.extract_audio_features(\"test_audio\\Jason Mraz - I Won't Give Up.wav\")\n",
      "c:\\Users\\anike\\OneDrive\\Desktop\\website\\Kurnn\\Kurnn\\recommendation_module\\feature_extractor_module.py:76: UserWarning: Empty filters detected in mel frequency basis. Some channels will produce empty responses. Try increasing your sampling rate (and fmax) or reducing n_mels.\n",
      "  mel_filter = librosa.filters.mel(sr=sr, n_fft=2048, n_mels=n_mels, fmin=low, fmax=high)\n"
     ]
    }
   ],
   "source": [
    "get_features = feature_extractor_module.extract_audio_features(\"test_audio\\Jason Mraz - I Won't Give Up.wav\")"
   ]
  },
  {
   "cell_type": "code",
   "execution_count": 18,
   "metadata": {},
   "outputs": [
    {
     "name": "stdout",
     "output_type": "stream",
     "text": [
      "{'rms_level': 0.15304744, 'spectral_centroid': 1825.98751617613, 'bandwidth': 2357.427444754664, 'zero_crossing_rate': 0.06420435835387664, 'band_energy_ratio': 1.7815072764606696, 'delta_spectrum_magnitude': 9.95392398628757e-05, 'pitch': 7.901732039309162, 'pitch_strength': 0.1992178436300809, 'mfcc_mean': [-163.1353861414826, 98.28313934291347, 29.302255816151394, 34.12378084102173, 17.75539932174629, 14.018072332944069, 1.8750745909446884, 5.880249927630355, -2.3336648853864332, 6.196238279039009, -1.1362542483651126, 4.309923757949063, -1.9668567870704319], 'mfcc_std': [124.84864850957695, 34.414369267394676, 24.012531665937423, 18.613433270184746, 16.347492043937013, 15.134345609995691, 12.518249463814662, 9.104211793139635, 10.082946097783047, 10.526438125290353, 9.300882051043615, 8.031888389492858, 8.521431679171119], 'average_roughness': 0.0018745110162929597, 'std_roughness': 0.04329562352354981, 'one_2hz_loudness': 0.0, 'three_15hz_loudness': 0.36855344071612933, 'twenty_43hz_loudness': 0.24100337049569093, 'sharpness': 0.16562248172179342, 'gamma_0Hz_energy': 9.64928586864061e-05, 'gamma_3-15Hz_energy': 0.04841950679450068, 'gamma_20-150Hz_energy': 0.7397625217938643, 'gamma_150-1000Hz_energy': 5.685360484684004}\n"
     ]
    }
   ],
   "source": [
    "print(get_features)"
   ]
  },
  {
   "cell_type": "code",
   "execution_count": 5,
   "metadata": {},
   "outputs": [],
   "source": [
    "import pandas as pd\n",
    "import numpy as np\n",
    "df = pd.DataFrame([get_features])\n",
    "\n",
    "# Explicitly set mfcc_mean and mfcc_std columns to object type\n",
    "df['mfcc_mean'] = df['mfcc_mean'].astype(object)\n",
    "df['mfcc_std'] = df['mfcc_std'].astype(object)"
   ]
  },
  {
   "cell_type": "code",
   "execution_count": 6,
   "metadata": {},
   "outputs": [
    {
     "data": {
      "text/html": [
       "<div>\n",
       "<style scoped>\n",
       "    .dataframe tbody tr th:only-of-type {\n",
       "        vertical-align: middle;\n",
       "    }\n",
       "\n",
       "    .dataframe tbody tr th {\n",
       "        vertical-align: top;\n",
       "    }\n",
       "\n",
       "    .dataframe thead th {\n",
       "        text-align: right;\n",
       "    }\n",
       "</style>\n",
       "<table border=\"1\" class=\"dataframe\">\n",
       "  <thead>\n",
       "    <tr style=\"text-align: right;\">\n",
       "      <th></th>\n",
       "      <th>rms_level</th>\n",
       "      <th>spectral_centroid</th>\n",
       "      <th>bandwidth</th>\n",
       "      <th>zero_crossing_rate</th>\n",
       "      <th>band_energy_ratio</th>\n",
       "      <th>delta_spectrum_magnitude</th>\n",
       "      <th>pitch</th>\n",
       "      <th>pitch_strength</th>\n",
       "      <th>mfcc_mean</th>\n",
       "      <th>mfcc_std</th>\n",
       "      <th>average_roughness</th>\n",
       "      <th>std_roughness</th>\n",
       "      <th>one_2hz_loudness</th>\n",
       "      <th>three_15hz_loudness</th>\n",
       "      <th>twenty_43hz_loudness</th>\n",
       "      <th>sharpness</th>\n",
       "      <th>gamma_0Hz_energy</th>\n",
       "      <th>gamma_3-15Hz_energy</th>\n",
       "      <th>gamma_20-150Hz_energy</th>\n",
       "      <th>gamma_150-1000Hz_energy</th>\n",
       "    </tr>\n",
       "  </thead>\n",
       "  <tbody>\n",
       "    <tr>\n",
       "      <th>0</th>\n",
       "      <td>0.153047</td>\n",
       "      <td>1825.987516</td>\n",
       "      <td>2357.427445</td>\n",
       "      <td>0.064204</td>\n",
       "      <td>1.781507</td>\n",
       "      <td>0.0001</td>\n",
       "      <td>7.901732</td>\n",
       "      <td>0.199218</td>\n",
       "      <td>[-163.1353861414826, 98.28313934291347, 29.302...</td>\n",
       "      <td>[124.84864850957695, 34.414369267394676, 24.01...</td>\n",
       "      <td>0.001875</td>\n",
       "      <td>0.043296</td>\n",
       "      <td>0.0</td>\n",
       "      <td>0.368553</td>\n",
       "      <td>0.241003</td>\n",
       "      <td>0.165622</td>\n",
       "      <td>0.000096</td>\n",
       "      <td>0.04842</td>\n",
       "      <td>0.739763</td>\n",
       "      <td>5.68536</td>\n",
       "    </tr>\n",
       "  </tbody>\n",
       "</table>\n",
       "</div>"
      ],
      "text/plain": [
       "   rms_level  spectral_centroid    bandwidth  zero_crossing_rate  \\\n",
       "0   0.153047        1825.987516  2357.427445            0.064204   \n",
       "\n",
       "   band_energy_ratio  delta_spectrum_magnitude     pitch  pitch_strength  \\\n",
       "0           1.781507                    0.0001  7.901732        0.199218   \n",
       "\n",
       "                                           mfcc_mean  \\\n",
       "0  [-163.1353861414826, 98.28313934291347, 29.302...   \n",
       "\n",
       "                                            mfcc_std  average_roughness  \\\n",
       "0  [124.84864850957695, 34.414369267394676, 24.01...           0.001875   \n",
       "\n",
       "   std_roughness  one_2hz_loudness  three_15hz_loudness  twenty_43hz_loudness  \\\n",
       "0       0.043296               0.0             0.368553              0.241003   \n",
       "\n",
       "   sharpness  gamma_0Hz_energy  gamma_3-15Hz_energy  gamma_20-150Hz_energy  \\\n",
       "0   0.165622          0.000096              0.04842               0.739763   \n",
       "\n",
       "   gamma_150-1000Hz_energy  \n",
       "0                  5.68536  "
      ]
     },
     "execution_count": 6,
     "metadata": {},
     "output_type": "execute_result"
    }
   ],
   "source": [
    "df.head()"
   ]
  },
  {
   "cell_type": "code",
   "execution_count": 7,
   "metadata": {},
   "outputs": [
    {
     "name": "stdout",
     "output_type": "stream",
     "text": [
      "<class 'pandas.core.frame.DataFrame'>\n",
      "RangeIndex: 1 entries, 0 to 0\n",
      "Data columns (total 20 columns):\n",
      " #   Column                    Non-Null Count  Dtype  \n",
      "---  ------                    --------------  -----  \n",
      " 0   rms_level                 1 non-null      float32\n",
      " 1   spectral_centroid         1 non-null      float64\n",
      " 2   bandwidth                 1 non-null      float64\n",
      " 3   zero_crossing_rate        1 non-null      float64\n",
      " 4   band_energy_ratio         1 non-null      float64\n",
      " 5   delta_spectrum_magnitude  1 non-null      float64\n",
      " 6   pitch                     1 non-null      float64\n",
      " 7   pitch_strength            1 non-null      float64\n",
      " 8   mfcc_mean                 1 non-null      object \n",
      " 9   mfcc_std                  1 non-null      object \n",
      " 10  average_roughness         1 non-null      float64\n",
      " 11  std_roughness             1 non-null      float64\n",
      " 12  one_2hz_loudness          1 non-null      float64\n",
      " 13  three_15hz_loudness       1 non-null      float64\n",
      " 14  twenty_43hz_loudness      1 non-null      float64\n",
      " 15  sharpness                 1 non-null      float64\n",
      " 16  gamma_0Hz_energy          1 non-null      float64\n",
      " 17  gamma_3-15Hz_energy       1 non-null      float64\n",
      " 18  gamma_20-150Hz_energy     1 non-null      float64\n",
      " 19  gamma_150-1000Hz_energy   1 non-null      float64\n",
      "dtypes: float32(1), float64(17), object(2)\n",
      "memory usage: 288.0+ bytes\n"
     ]
    }
   ],
   "source": [
    "df.info()"
   ]
  },
  {
   "cell_type": "code",
   "execution_count": 8,
   "metadata": {},
   "outputs": [],
   "source": [
    "df = df.drop(columns=[\"mfcc_mean\", \"mfcc_std\"])"
   ]
  },
  {
   "cell_type": "markdown",
   "metadata": {},
   "source": [
    "Index(['rms_level', 'spectral_centroid', 'bandwidth', 'zero_crossing_rate',\n",
    "       'band_energy_ratio', 'delta_spectrum_magnitude', 'pitch',\n",
    "       'pitch_strength', 'average_roughness', 'std_roughness',\n",
    "       'one_2hz_loudness', 'three_15hz_loudness', 'twenty_43hz_loudness',\n",
    "       'sharpness', 'gamma_0Hz_energy', 'gamma_3-15Hz_energy',\n",
    "       'gamma_20-150Hz_energy', 'gamma_150-1000Hz_energy', 'cluster_kmeans'],\n",
    "      dtype='object')"
   ]
  },
  {
   "cell_type": "code",
   "execution_count": 9,
   "metadata": {},
   "outputs": [
    {
     "data": {
      "text/plain": [
       "Index(['rms_level', 'spectral_centroid', 'bandwidth', 'zero_crossing_rate',\n",
       "       'band_energy_ratio', 'delta_spectrum_magnitude', 'pitch',\n",
       "       'pitch_strength', 'average_roughness', 'std_roughness',\n",
       "       'one_2hz_loudness', 'three_15hz_loudness', 'twenty_43hz_loudness',\n",
       "       'sharpness', 'gamma_0Hz_energy', 'gamma_3-15Hz_energy',\n",
       "       'gamma_20-150Hz_energy', 'gamma_150-1000Hz_energy'],\n",
       "      dtype='object')"
      ]
     },
     "execution_count": 9,
     "metadata": {},
     "output_type": "execute_result"
    }
   ],
   "source": [
    "df.columns"
   ]
  },
  {
   "cell_type": "code",
   "execution_count": 10,
   "metadata": {},
   "outputs": [
    {
     "name": "stdout",
     "output_type": "stream",
     "text": [
      "0\n"
     ]
    },
    {
     "name": "stderr",
     "output_type": "stream",
     "text": [
      "C:\\Users\\anike\\AppData\\Local\\Packages\\PythonSoftwareFoundation.Python.3.12_qbz5n2kfra8p0\\LocalCache\\local-packages\\Python312\\site-packages\\sklearn\\base.py:376: InconsistentVersionWarning: Trying to unpickle estimator KMeans from version 1.5.2 when using version 1.4.2. This might lead to breaking code or invalid results. Use at your own risk. For more info please refer to:\n",
      "https://scikit-learn.org/stable/model_persistence.html#security-maintainability-limitations\n",
      "  warnings.warn(\n"
     ]
    }
   ],
   "source": [
    "import joblib\n",
    "model = joblib.load(\"recommendation_module/kmeans_model_final.pkl\")\n",
    "result = model.predict(df)[0]\n",
    "print(result)"
   ]
  },
  {
   "cell_type": "code",
   "execution_count": 16,
   "metadata": {},
   "outputs": [
    {
     "name": "stdout",
     "output_type": "stream",
     "text": [
      "[0, 1, 4, 5, 10, 13, 14, 15, 16, 17]\n"
     ]
    },
    {
     "data": {
      "text/plain": [
       "['(Person) (Noun) - 1 vs 7 Billion.wav',\n",
       " '(Person) (Noun) - A Punk Song About How Law Enforcement Ruins Everything.wav',\n",
       " \"A Fine Frenzy - It's Alive.wav\",\n",
       " 'A Fine Frenzy - Now Is The Start.wav',\n",
       " \"A Fine Frenzy - They Can't If You Don't Let Them.wav\",\n",
       " 'Abayomy Afrobeat Orquestra - Afrodisíaco.wav',\n",
       " 'Abayomy Afrobeat Orquestra - Emi Yaba.wav',\n",
       " 'Abayomy Afrobeat Orquestra - Eru.wav',\n",
       " 'Abayomy Afrobeat Orquestra - Malunguinho.wav',\n",
       " 'Abayomy Afrobeat Orquestra - No Shit.wav']"
      ]
     },
     "execution_count": 16,
     "metadata": {},
     "output_type": "execute_result"
    }
   ],
   "source": [
    "from recommendation_module import preprocessing_df\n",
    "n = 10\n",
    "df_org = pd.read_csv(\"recommendation_module/clustered_data.csv\")\n",
    "recommendations = list(df_org[df_org[\"cluster_kmeans\"] == result][\"Unnamed: 0\"][:n])\n",
    "print(recommendations)\n",
    "df_songs = pd.read_csv(\"recommendation_module/features_data.csv\")\n",
    "songs = []\n",
    "for rec in recommendations:\n",
    "    songs.append(df_songs[\"track_name\"].iloc[rec])\n",
    "songs"
   ]
  },
  {
   "cell_type": "code",
   "execution_count": 13,
   "metadata": {},
   "outputs": [
    {
     "data": {
      "text/plain": [
       "[0, 1, 4, 5, 10, 13, 14, 15, 16, 17]"
      ]
     },
     "execution_count": 13,
     "metadata": {},
     "output_type": "execute_result"
    }
   ],
   "source": [
    "list(df_rec[\"Unnamed: 0\"])"
   ]
  },
  {
   "cell_type": "code",
   "execution_count": null,
   "metadata": {},
   "outputs": [],
   "source": []
  }
 ],
 "metadata": {
  "kernelspec": {
   "display_name": "Python 3",
   "language": "python",
   "name": "python3"
  },
  "language_info": {
   "codemirror_mode": {
    "name": "ipython",
    "version": 3
   },
   "file_extension": ".py",
   "mimetype": "text/x-python",
   "name": "python",
   "nbconvert_exporter": "python",
   "pygments_lexer": "ipython3",
   "version": "3.12.7"
  }
 },
 "nbformat": 4,
 "nbformat_minor": 2
}
